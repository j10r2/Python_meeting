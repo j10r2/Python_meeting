{
 "cells": [
  {
   "cell_type": "code",
   "execution_count": 100,
   "id": "4dd439ee",
   "metadata": {},
   "outputs": [],
   "source": [
    "import pandas as pd"
   ]
  },
  {
   "cell_type": "code",
   "execution_count": 101,
   "id": "bfb51b01",
   "metadata": {},
   "outputs": [],
   "source": [
    "import seaborn as sns"
   ]
  },
  {
   "cell_type": "code",
   "execution_count": 102,
   "id": "ea5329ff",
   "metadata": {},
   "outputs": [],
   "source": [
    "import matplotlib.pyplot as plt"
   ]
  },
  {
   "cell_type": "code",
   "execution_count": 3,
   "id": "5e941013",
   "metadata": {},
   "outputs": [],
   "source": [
    "df = pd.read_csv(\"Titanic.csv\")"
   ]
  },
  {
   "cell_type": "code",
   "execution_count": 223,
   "id": "1d56e479",
   "metadata": {
    "scrolled": true
   },
   "outputs": [
    {
     "data": {
      "text/html": [
       "<div>\n",
       "<style scoped>\n",
       "    .dataframe tbody tr th:only-of-type {\n",
       "        vertical-align: middle;\n",
       "    }\n",
       "\n",
       "    .dataframe tbody tr th {\n",
       "        vertical-align: top;\n",
       "    }\n",
       "\n",
       "    .dataframe thead th {\n",
       "        text-align: right;\n",
       "    }\n",
       "</style>\n",
       "<table border=\"1\" class=\"dataframe\">\n",
       "  <thead>\n",
       "    <tr style=\"text-align: right;\">\n",
       "      <th></th>\n",
       "      <th>PassengerId</th>\n",
       "      <th>Survived</th>\n",
       "      <th>Pclass</th>\n",
       "      <th>Name</th>\n",
       "      <th>Sex</th>\n",
       "      <th>Age</th>\n",
       "      <th>SibSp</th>\n",
       "      <th>Parch</th>\n",
       "      <th>Ticket</th>\n",
       "      <th>Fare</th>\n",
       "      <th>Cabin</th>\n",
       "      <th>Embarked</th>\n",
       "      <th>age_gr</th>\n",
       "      <th>fare_gr</th>\n",
       "    </tr>\n",
       "  </thead>\n",
       "  <tbody>\n",
       "    <tr>\n",
       "      <th>0</th>\n",
       "      <td>1</td>\n",
       "      <td>0</td>\n",
       "      <td>3</td>\n",
       "      <td>Braund, Mr. Owen Harris</td>\n",
       "      <td>male</td>\n",
       "      <td>22.0</td>\n",
       "      <td>1</td>\n",
       "      <td>0</td>\n",
       "      <td>A/5 21171</td>\n",
       "      <td>7.2500</td>\n",
       "      <td>NaN</td>\n",
       "      <td>S</td>\n",
       "      <td>young</td>\n",
       "      <td>(-0.512, 102.466]</td>\n",
       "    </tr>\n",
       "    <tr>\n",
       "      <th>1</th>\n",
       "      <td>2</td>\n",
       "      <td>1</td>\n",
       "      <td>1</td>\n",
       "      <td>Cumings, Mrs. John Bradley (Florence Briggs Th...</td>\n",
       "      <td>female</td>\n",
       "      <td>38.0</td>\n",
       "      <td>1</td>\n",
       "      <td>0</td>\n",
       "      <td>PC 17599</td>\n",
       "      <td>71.2833</td>\n",
       "      <td>C85</td>\n",
       "      <td>C</td>\n",
       "      <td>mid</td>\n",
       "      <td>(-0.512, 102.466]</td>\n",
       "    </tr>\n",
       "    <tr>\n",
       "      <th>2</th>\n",
       "      <td>3</td>\n",
       "      <td>1</td>\n",
       "      <td>3</td>\n",
       "      <td>Heikkinen, Miss. Laina</td>\n",
       "      <td>female</td>\n",
       "      <td>26.0</td>\n",
       "      <td>0</td>\n",
       "      <td>0</td>\n",
       "      <td>STON/O2. 3101282</td>\n",
       "      <td>7.9250</td>\n",
       "      <td>NaN</td>\n",
       "      <td>S</td>\n",
       "      <td>young</td>\n",
       "      <td>(-0.512, 102.466]</td>\n",
       "    </tr>\n",
       "    <tr>\n",
       "      <th>3</th>\n",
       "      <td>4</td>\n",
       "      <td>1</td>\n",
       "      <td>1</td>\n",
       "      <td>Futrelle, Mrs. Jacques Heath (Lily May Peel)</td>\n",
       "      <td>female</td>\n",
       "      <td>35.0</td>\n",
       "      <td>1</td>\n",
       "      <td>0</td>\n",
       "      <td>113803</td>\n",
       "      <td>53.1000</td>\n",
       "      <td>C123</td>\n",
       "      <td>S</td>\n",
       "      <td>young</td>\n",
       "      <td>(-0.512, 102.466]</td>\n",
       "    </tr>\n",
       "    <tr>\n",
       "      <th>4</th>\n",
       "      <td>5</td>\n",
       "      <td>0</td>\n",
       "      <td>3</td>\n",
       "      <td>Allen, Mr. William Henry</td>\n",
       "      <td>male</td>\n",
       "      <td>35.0</td>\n",
       "      <td>0</td>\n",
       "      <td>0</td>\n",
       "      <td>373450</td>\n",
       "      <td>8.0500</td>\n",
       "      <td>NaN</td>\n",
       "      <td>S</td>\n",
       "      <td>young</td>\n",
       "      <td>(-0.512, 102.466]</td>\n",
       "    </tr>\n",
       "  </tbody>\n",
       "</table>\n",
       "</div>"
      ],
      "text/plain": [
       "   PassengerId  Survived  Pclass  \\\n",
       "0            1         0       3   \n",
       "1            2         1       1   \n",
       "2            3         1       3   \n",
       "3            4         1       1   \n",
       "4            5         0       3   \n",
       "\n",
       "                                                Name     Sex   Age  SibSp  \\\n",
       "0                            Braund, Mr. Owen Harris    male  22.0      1   \n",
       "1  Cumings, Mrs. John Bradley (Florence Briggs Th...  female  38.0      1   \n",
       "2                             Heikkinen, Miss. Laina  female  26.0      0   \n",
       "3       Futrelle, Mrs. Jacques Heath (Lily May Peel)  female  35.0      1   \n",
       "4                           Allen, Mr. William Henry    male  35.0      0   \n",
       "\n",
       "   Parch            Ticket     Fare Cabin Embarked age_gr            fare_gr  \n",
       "0      0         A/5 21171   7.2500   NaN        S  young  (-0.512, 102.466]  \n",
       "1      0          PC 17599  71.2833   C85        C    mid  (-0.512, 102.466]  \n",
       "2      0  STON/O2. 3101282   7.9250   NaN        S  young  (-0.512, 102.466]  \n",
       "3      0            113803  53.1000  C123        S  young  (-0.512, 102.466]  \n",
       "4      0            373450   8.0500   NaN        S  young  (-0.512, 102.466]  "
      ]
     },
     "execution_count": 223,
     "metadata": {},
     "output_type": "execute_result"
    }
   ],
   "source": [
    "df.head(5)"
   ]
  },
  {
   "cell_type": "code",
   "execution_count": 219,
   "id": "6bfafb9a",
   "metadata": {},
   "outputs": [
    {
     "name": "stdout",
     "output_type": "stream",
     "text": [
      "<class 'pandas.core.frame.DataFrame'>\n",
      "RangeIndex: 891 entries, 0 to 890\n",
      "Data columns (total 14 columns):\n",
      " #   Column       Non-Null Count  Dtype   \n",
      "---  ------       --------------  -----   \n",
      " 0   PassengerId  891 non-null    int64   \n",
      " 1   Survived     891 non-null    int64   \n",
      " 2   Pclass       891 non-null    int64   \n",
      " 3   Name         891 non-null    object  \n",
      " 4   Sex          891 non-null    object  \n",
      " 5   Age          714 non-null    float64 \n",
      " 6   SibSp        891 non-null    int64   \n",
      " 7   Parch        891 non-null    int64   \n",
      " 8   Ticket       891 non-null    object  \n",
      " 9   Fare         891 non-null    float64 \n",
      " 10  Cabin        204 non-null    object  \n",
      " 11  Embarked     889 non-null    object  \n",
      " 12  age_gr       714 non-null    category\n",
      " 13  fare_gr      891 non-null    category\n",
      "dtypes: category(2), float64(2), int64(5), object(5)\n",
      "memory usage: 85.8+ KB\n"
     ]
    }
   ],
   "source": [
    "df.info()"
   ]
  },
  {
   "cell_type": "markdown",
   "id": "c3e87b7e",
   "metadata": {},
   "source": [
    "# Описательная таблица"
   ]
  },
  {
   "cell_type": "code",
   "execution_count": 234,
   "id": "a531c0aa",
   "metadata": {},
   "outputs": [
    {
     "data": {
      "text/html": [
       "<div>\n",
       "<style scoped>\n",
       "    .dataframe tbody tr th:only-of-type {\n",
       "        vertical-align: middle;\n",
       "    }\n",
       "\n",
       "    .dataframe tbody tr th {\n",
       "        vertical-align: top;\n",
       "    }\n",
       "\n",
       "    .dataframe thead th {\n",
       "        text-align: right;\n",
       "    }\n",
       "</style>\n",
       "<table border=\"1\" class=\"dataframe\">\n",
       "  <thead>\n",
       "    <tr style=\"text-align: right;\">\n",
       "      <th></th>\n",
       "      <th>PassengerId</th>\n",
       "      <th>Survived</th>\n",
       "      <th>Pclass</th>\n",
       "      <th>Age</th>\n",
       "      <th>SibSp</th>\n",
       "      <th>Parch</th>\n",
       "      <th>Fare</th>\n",
       "    </tr>\n",
       "  </thead>\n",
       "  <tbody>\n",
       "    <tr>\n",
       "      <th>count</th>\n",
       "      <td>891.000000</td>\n",
       "      <td>891.000000</td>\n",
       "      <td>891.000000</td>\n",
       "      <td>714.000000</td>\n",
       "      <td>891.000000</td>\n",
       "      <td>891.000000</td>\n",
       "      <td>891.000000</td>\n",
       "    </tr>\n",
       "    <tr>\n",
       "      <th>mean</th>\n",
       "      <td>446.000000</td>\n",
       "      <td>0.383838</td>\n",
       "      <td>2.308642</td>\n",
       "      <td>29.699118</td>\n",
       "      <td>0.523008</td>\n",
       "      <td>0.381594</td>\n",
       "      <td>32.204208</td>\n",
       "    </tr>\n",
       "    <tr>\n",
       "      <th>std</th>\n",
       "      <td>257.353842</td>\n",
       "      <td>0.486592</td>\n",
       "      <td>0.836071</td>\n",
       "      <td>14.526497</td>\n",
       "      <td>1.102743</td>\n",
       "      <td>0.806057</td>\n",
       "      <td>49.693429</td>\n",
       "    </tr>\n",
       "    <tr>\n",
       "      <th>min</th>\n",
       "      <td>1.000000</td>\n",
       "      <td>0.000000</td>\n",
       "      <td>1.000000</td>\n",
       "      <td>0.420000</td>\n",
       "      <td>0.000000</td>\n",
       "      <td>0.000000</td>\n",
       "      <td>0.000000</td>\n",
       "    </tr>\n",
       "    <tr>\n",
       "      <th>25%</th>\n",
       "      <td>223.500000</td>\n",
       "      <td>0.000000</td>\n",
       "      <td>2.000000</td>\n",
       "      <td>20.125000</td>\n",
       "      <td>0.000000</td>\n",
       "      <td>0.000000</td>\n",
       "      <td>7.910400</td>\n",
       "    </tr>\n",
       "    <tr>\n",
       "      <th>50%</th>\n",
       "      <td>446.000000</td>\n",
       "      <td>0.000000</td>\n",
       "      <td>3.000000</td>\n",
       "      <td>28.000000</td>\n",
       "      <td>0.000000</td>\n",
       "      <td>0.000000</td>\n",
       "      <td>14.454200</td>\n",
       "    </tr>\n",
       "    <tr>\n",
       "      <th>75%</th>\n",
       "      <td>668.500000</td>\n",
       "      <td>1.000000</td>\n",
       "      <td>3.000000</td>\n",
       "      <td>38.000000</td>\n",
       "      <td>1.000000</td>\n",
       "      <td>0.000000</td>\n",
       "      <td>31.000000</td>\n",
       "    </tr>\n",
       "    <tr>\n",
       "      <th>max</th>\n",
       "      <td>891.000000</td>\n",
       "      <td>1.000000</td>\n",
       "      <td>3.000000</td>\n",
       "      <td>80.000000</td>\n",
       "      <td>8.000000</td>\n",
       "      <td>6.000000</td>\n",
       "      <td>512.329200</td>\n",
       "    </tr>\n",
       "  </tbody>\n",
       "</table>\n",
       "</div>"
      ],
      "text/plain": [
       "       PassengerId    Survived      Pclass         Age       SibSp  \\\n",
       "count   891.000000  891.000000  891.000000  714.000000  891.000000   \n",
       "mean    446.000000    0.383838    2.308642   29.699118    0.523008   \n",
       "std     257.353842    0.486592    0.836071   14.526497    1.102743   \n",
       "min       1.000000    0.000000    1.000000    0.420000    0.000000   \n",
       "25%     223.500000    0.000000    2.000000   20.125000    0.000000   \n",
       "50%     446.000000    0.000000    3.000000   28.000000    0.000000   \n",
       "75%     668.500000    1.000000    3.000000   38.000000    1.000000   \n",
       "max     891.000000    1.000000    3.000000   80.000000    8.000000   \n",
       "\n",
       "            Parch        Fare  \n",
       "count  891.000000  891.000000  \n",
       "mean     0.381594   32.204208  \n",
       "std      0.806057   49.693429  \n",
       "min      0.000000    0.000000  \n",
       "25%      0.000000    7.910400  \n",
       "50%      0.000000   14.454200  \n",
       "75%      0.000000   31.000000  \n",
       "max      6.000000  512.329200  "
      ]
     },
     "execution_count": 234,
     "metadata": {},
     "output_type": "execute_result"
    }
   ],
   "source": [
    "df.describe()"
   ]
  },
  {
   "cell_type": "markdown",
   "id": "317cb5be",
   "metadata": {},
   "source": [
    "Из данной таблицы мы видим, что в наборе данных содержится 891 строка, что соответствует 891 пассажиру. Средний **коэффициент выживаемости** составляет 38,38%. Пассажиров 3 класса было больше 50%. 25% пассажиров имели возраст до ~20 лет, ещё 25% - от 20 до 28 лет, ещё 25% - от 28 до 38 лет, и оставшиеся 25% были старше 38 лет."
   ]
  },
  {
   "cell_type": "markdown",
   "id": "8790a50b",
   "metadata": {},
   "source": [
    "Сначала рассмотрим зависимость **коэффициента выживаемости** от **класса билета**:"
   ]
  },
  {
   "cell_type": "code",
   "execution_count": 326,
   "id": "5ef2381f",
   "metadata": {},
   "outputs": [],
   "source": [
    "class_surv = df.groupby(['Pclass'], as_index=False).\\\n",
    "agg({'Pclass':'mean', 'Survived':'sum', 'PassengerId':'count'}).round(2)"
   ]
  },
  {
   "cell_type": "code",
   "execution_count": 327,
   "id": "47f5ddc3",
   "metadata": {},
   "outputs": [
    {
     "data": {
      "text/html": [
       "<div>\n",
       "<style scoped>\n",
       "    .dataframe tbody tr th:only-of-type {\n",
       "        vertical-align: middle;\n",
       "    }\n",
       "\n",
       "    .dataframe tbody tr th {\n",
       "        vertical-align: top;\n",
       "    }\n",
       "\n",
       "    .dataframe thead th {\n",
       "        text-align: right;\n",
       "    }\n",
       "</style>\n",
       "<table border=\"1\" class=\"dataframe\">\n",
       "  <thead>\n",
       "    <tr style=\"text-align: right;\">\n",
       "      <th></th>\n",
       "      <th>Pclass</th>\n",
       "      <th>Survived</th>\n",
       "      <th>PassengerId</th>\n",
       "    </tr>\n",
       "  </thead>\n",
       "  <tbody>\n",
       "    <tr>\n",
       "      <th>0</th>\n",
       "      <td>1.0</td>\n",
       "      <td>136</td>\n",
       "      <td>216</td>\n",
       "    </tr>\n",
       "    <tr>\n",
       "      <th>1</th>\n",
       "      <td>2.0</td>\n",
       "      <td>87</td>\n",
       "      <td>184</td>\n",
       "    </tr>\n",
       "    <tr>\n",
       "      <th>2</th>\n",
       "      <td>3.0</td>\n",
       "      <td>119</td>\n",
       "      <td>491</td>\n",
       "    </tr>\n",
       "  </tbody>\n",
       "</table>\n",
       "</div>"
      ],
      "text/plain": [
       "   Pclass  Survived  PassengerId\n",
       "0     1.0       136          216\n",
       "1     2.0        87          184\n",
       "2     3.0       119          491"
      ]
     },
     "execution_count": 327,
     "metadata": {},
     "output_type": "execute_result"
    }
   ],
   "source": [
    "class_surv"
   ]
  },
  {
   "cell_type": "markdown",
   "id": "2d07a473",
   "metadata": {},
   "source": [
    "Из данной таблицы видно, что чем выше класс, тем выше процент выживаемости пассажиров. На диаграммах ниже показано распределение по классам в общей массе пассажиров и среди выживших. Сразу бросается в глаза, что среди общей массы пассажиры первого класса составляли 24%, при этом среди выживших их 40%."
   ]
  },
  {
   "cell_type": "code",
   "execution_count": 332,
   "id": "02d1bd2c",
   "metadata": {},
   "outputs": [
    {
     "data": {
      "text/plain": [
       "Text(0.5, 1.0, 'classes among the survivors')"
      ]
     },
     "execution_count": 332,
     "metadata": {},
     "output_type": "execute_result"
    },
    {
     "data": {
      "image/png": "[encoded data removed]",
      "text/plain": [
       "<Figure size 1000x500 with 2 Axes>"
      ]
     },
     "metadata": {},
     "output_type": "display_data"
    }
   ],
   "source": [
    "plt.figure (figsize = (10,5))\n",
    "plt.subplot (121)\n",
    "plt.pie(class_surv.PassengerId, labels=class_surv.Pclass, autopct='%.0f%%', colors = sns.color_palette('pastel')[7:12])\n",
    "plt.title('classes among all passengers')\n",
    "\n",
    "plt.subplot (122)\n",
    "plt.pie(class_surv.Survived, labels=class_surv.Pclass, autopct='%.0f%%', colors = sns.color_palette('pastel')[7:12])\n",
    "plt.title('classes among the survivors')"
   ]
  },
  {
   "cell_type": "markdown",
   "id": "8a96011c",
   "metadata": {},
   "source": [
    "Далее рассмотрим **коэффициент выживаемости** в зависимости от **порта посадки**:"
   ]
  },
  {
   "cell_type": "code",
   "execution_count": 217,
   "id": "a8d981fc",
   "metadata": {},
   "outputs": [
    {
     "data": {
      "text/html": [
       "<div>\n",
       "<style scoped>\n",
       "    .dataframe tbody tr th:only-of-type {\n",
       "        vertical-align: middle;\n",
       "    }\n",
       "\n",
       "    .dataframe tbody tr th {\n",
       "        vertical-align: top;\n",
       "    }\n",
       "\n",
       "    .dataframe thead tr th {\n",
       "        text-align: left;\n",
       "    }\n",
       "</style>\n",
       "<table border=\"1\" class=\"dataframe\">\n",
       "  <thead>\n",
       "    <tr>\n",
       "      <th></th>\n",
       "      <th>Embarked</th>\n",
       "      <th>PassengerId</th>\n",
       "      <th colspan=\"2\" halign=\"left\">Survived</th>\n",
       "    </tr>\n",
       "    <tr>\n",
       "      <th></th>\n",
       "      <th></th>\n",
       "      <th>count</th>\n",
       "      <th>sum</th>\n",
       "      <th>mean</th>\n",
       "    </tr>\n",
       "  </thead>\n",
       "  <tbody>\n",
       "    <tr>\n",
       "      <th>0</th>\n",
       "      <td>C</td>\n",
       "      <td>168</td>\n",
       "      <td>93</td>\n",
       "      <td>0.553571</td>\n",
       "    </tr>\n",
       "    <tr>\n",
       "      <th>1</th>\n",
       "      <td>Q</td>\n",
       "      <td>77</td>\n",
       "      <td>30</td>\n",
       "      <td>0.389610</td>\n",
       "    </tr>\n",
       "    <tr>\n",
       "      <th>2</th>\n",
       "      <td>S</td>\n",
       "      <td>644</td>\n",
       "      <td>217</td>\n",
       "      <td>0.336957</td>\n",
       "    </tr>\n",
       "  </tbody>\n",
       "</table>\n",
       "</div>"
      ],
      "text/plain": [
       "  Embarked PassengerId Survived          \n",
       "                 count      sum      mean\n",
       "0        C         168       93  0.553571\n",
       "1        Q          77       30  0.389610\n",
       "2        S         644      217  0.336957"
      ]
     },
     "execution_count": 217,
     "metadata": {},
     "output_type": "execute_result"
    }
   ],
   "source": [
    "df.groupby('Embarked', as_index = False).agg({'PassengerId':'count', 'Survived':['sum','mean']})"
   ]
  },
  {
   "cell_type": "markdown",
   "id": "dc9b841f",
   "metadata": {},
   "source": [
    "Из таблицы видно, что наиболее высокий коэффициент выживания у пассажиров, севших в порте Шербур, для пассажиров из Квинстауна коэффициент соответствует среднему (0,38), а для пассажиров из Саутгемптона он ниже среднего. Рассмотрим версию, что коэффициент выживаемости порта зависит от классового состава севших в нём пассажиров:"
   ]
  },
  {
   "cell_type": "code",
   "execution_count": 309,
   "id": "df1563cd",
   "metadata": {},
   "outputs": [
    {
     "data": {
      "text/html": [
       "<div>\n",
       "<style scoped>\n",
       "    .dataframe tbody tr th:only-of-type {\n",
       "        vertical-align: middle;\n",
       "    }\n",
       "\n",
       "    .dataframe tbody tr th {\n",
       "        vertical-align: top;\n",
       "    }\n",
       "\n",
       "    .dataframe thead th {\n",
       "        text-align: right;\n",
       "    }\n",
       "</style>\n",
       "<table border=\"1\" class=\"dataframe\">\n",
       "  <thead>\n",
       "    <tr style=\"text-align: right;\">\n",
       "      <th></th>\n",
       "      <th></th>\n",
       "      <th>Pclass</th>\n",
       "      <th>Survived</th>\n",
       "    </tr>\n",
       "    <tr>\n",
       "      <th>Embarked</th>\n",
       "      <th>Pclass</th>\n",
       "      <th></th>\n",
       "      <th></th>\n",
       "    </tr>\n",
       "  </thead>\n",
       "  <tbody>\n",
       "    <tr>\n",
       "      <th rowspan=\"3\" valign=\"top\">C</th>\n",
       "      <th>1</th>\n",
       "      <td>85</td>\n",
       "      <td>0.69</td>\n",
       "    </tr>\n",
       "    <tr>\n",
       "      <th>2</th>\n",
       "      <td>17</td>\n",
       "      <td>0.53</td>\n",
       "    </tr>\n",
       "    <tr>\n",
       "      <th>3</th>\n",
       "      <td>66</td>\n",
       "      <td>0.38</td>\n",
       "    </tr>\n",
       "    <tr>\n",
       "      <th rowspan=\"3\" valign=\"top\">Q</th>\n",
       "      <th>1</th>\n",
       "      <td>2</td>\n",
       "      <td>0.50</td>\n",
       "    </tr>\n",
       "    <tr>\n",
       "      <th>2</th>\n",
       "      <td>3</td>\n",
       "      <td>0.67</td>\n",
       "    </tr>\n",
       "    <tr>\n",
       "      <th>3</th>\n",
       "      <td>72</td>\n",
       "      <td>0.38</td>\n",
       "    </tr>\n",
       "    <tr>\n",
       "      <th rowspan=\"3\" valign=\"top\">S</th>\n",
       "      <th>1</th>\n",
       "      <td>127</td>\n",
       "      <td>0.58</td>\n",
       "    </tr>\n",
       "    <tr>\n",
       "      <th>2</th>\n",
       "      <td>164</td>\n",
       "      <td>0.46</td>\n",
       "    </tr>\n",
       "    <tr>\n",
       "      <th>3</th>\n",
       "      <td>353</td>\n",
       "      <td>0.19</td>\n",
       "    </tr>\n",
       "  </tbody>\n",
       "</table>\n",
       "</div>"
      ],
      "text/plain": [
       "                 Pclass  Survived\n",
       "Embarked Pclass                  \n",
       "C        1           85      0.69\n",
       "         2           17      0.53\n",
       "         3           66      0.38\n",
       "Q        1            2      0.50\n",
       "         2            3      0.67\n",
       "         3           72      0.38\n",
       "S        1          127      0.58\n",
       "         2          164      0.46\n",
       "         3          353      0.19"
      ]
     },
     "execution_count": 309,
     "metadata": {},
     "output_type": "execute_result"
    }
   ],
   "source": [
    "df.groupby(['Embarked', 'Pclass']).agg({'Pclass':'count', 'Survived':'mean'}).round(2)"
   ]
  },
  {
   "cell_type": "markdown",
   "id": "43eb520c",
   "metadata": {},
   "source": [
    "Согласно данной таблице, в порту Шербур доля пассажиров первого класса выше, чем в остальных. Вероятно, именно это влияет на коэффициент выживаемости по порту посадки. Однако, также можно заметить, что для всех классов пассажиров, севших в Шербуре, коэффициент выживаемости выше, чем для тех, кто сел в Саутгемптоне.\n",
    "Создадим новую таблицу, в которой рассмотрим выживаемость пассажиров в зависимости от пола, возраста и порта посадки"
   ]
  },
  {
   "cell_type": "markdown",
   "id": "a277c08d",
   "metadata": {},
   "source": [
    "Для дальнейшего анализа добавим деление пассажиров на возрастные группы (0-15 лет, 15-35 лет, 35-55 лет, старше 55 лет)"
   ]
  },
  {
   "cell_type": "code",
   "execution_count": null,
   "id": "9d3ec112",
   "metadata": {},
   "outputs": [],
   "source": [
    "age_groups = [[0, 15, 35, 55, 100],['kids', 'young', 'mid', 'old']]"
   ]
  },
  {
   "cell_type": "code",
   "execution_count": 144,
   "id": "28e8dab6",
   "metadata": {},
   "outputs": [],
   "source": [
    "df['age_gr']= pd.cut(df['Age'],\n",
    "                     bins=age_groups[0],\n",
    "                     labels=age_groups[1])"
   ]
  },
  {
   "cell_type": "code",
   "execution_count": 145,
   "id": "84d8393f",
   "metadata": {},
   "outputs": [],
   "source": [
    "df['fare_gr']= pd.cut(df['Fare'],\n",
    "                     bins=5)"
   ]
  },
  {
   "cell_type": "code",
   "execution_count": 203,
   "id": "a299998a",
   "metadata": {},
   "outputs": [],
   "source": [
    "new_df = df.groupby(['Embarked', 'age_gr'], as_index = True).\\\n",
    "            agg({'age_gr':'count'})"
   ]
  },
  {
   "cell_type": "code",
   "execution_count": 205,
   "id": "e1ca800a",
   "metadata": {},
   "outputs": [],
   "source": [
    "new_df['f_total_col'] = df.query('Sex == \"female\"').groupby(['Embarked', 'age_gr']).agg({'Survived':'count'}).round(2)\n",
    "new_df['m_total_col'] = df.query('Sex == \"male\"').groupby(['Embarked', 'age_gr']).agg({'Survived':'count'}).round(2)\n",
    "new_df['f_surv_col'] = df.query('Sex == \"female\"').groupby(['Embarked', 'age_gr']).agg({'Survived':'sum'}).round(2)\n",
    "new_df['m_surv_col'] = df.query('Sex == \"male\"').groupby(['Embarked', 'age_gr']).agg({'Survived':'sum'}).round(2)\n",
    "new_df['f_surv_q'] = df.query('Sex == \"female\"').groupby(['Embarked', 'age_gr']).agg({'Survived':'mean'}).round(2)\n",
    "new_df['m_surv_q'] = df.query('Sex == \"male\"').groupby(['Embarked', 'age_gr']).agg({'Survived':'mean'}).round(2)"
   ]
  },
  {
   "cell_type": "code",
   "execution_count": 231,
   "id": "910d3d75",
   "metadata": {},
   "outputs": [
    {
     "data": {
      "text/html": [
       "<div>\n",
       "<style scoped>\n",
       "    .dataframe tbody tr th:only-of-type {\n",
       "        vertical-align: middle;\n",
       "    }\n",
       "\n",
       "    .dataframe tbody tr th {\n",
       "        vertical-align: top;\n",
       "    }\n",
       "\n",
       "    .dataframe thead th {\n",
       "        text-align: right;\n",
       "    }\n",
       "</style>\n",
       "<table border=\"1\" class=\"dataframe\">\n",
       "  <thead>\n",
       "    <tr style=\"text-align: right;\">\n",
       "      <th></th>\n",
       "      <th></th>\n",
       "      <th>f_total_col</th>\n",
       "      <th>m_total_col</th>\n",
       "      <th>f_surv_col</th>\n",
       "      <th>m_surv_col</th>\n",
       "      <th>f_surv_q</th>\n",
       "      <th>m_surv_q</th>\n",
       "    </tr>\n",
       "    <tr>\n",
       "      <th>Embarked</th>\n",
       "      <th>age_gr</th>\n",
       "      <th></th>\n",
       "      <th></th>\n",
       "      <th></th>\n",
       "      <th></th>\n",
       "      <th></th>\n",
       "      <th></th>\n",
       "    </tr>\n",
       "  </thead>\n",
       "  <tbody>\n",
       "    <tr>\n",
       "      <th rowspan=\"4\" valign=\"top\">C</th>\n",
       "      <th>kids</th>\n",
       "      <td>13</td>\n",
       "      <td>5</td>\n",
       "      <td>11</td>\n",
       "      <td>3</td>\n",
       "      <td>0.85</td>\n",
       "      <td>0.60</td>\n",
       "    </tr>\n",
       "    <tr>\n",
       "      <th>young</th>\n",
       "      <td>27</td>\n",
       "      <td>41</td>\n",
       "      <td>25</td>\n",
       "      <td>14</td>\n",
       "      <td>0.93</td>\n",
       "      <td>0.34</td>\n",
       "    </tr>\n",
       "    <tr>\n",
       "      <th>mid</th>\n",
       "      <td>18</td>\n",
       "      <td>15</td>\n",
       "      <td>16</td>\n",
       "      <td>5</td>\n",
       "      <td>0.89</td>\n",
       "      <td>0.33</td>\n",
       "    </tr>\n",
       "    <tr>\n",
       "      <th>old</th>\n",
       "      <td>3</td>\n",
       "      <td>8</td>\n",
       "      <td>3</td>\n",
       "      <td>2</td>\n",
       "      <td>1.00</td>\n",
       "      <td>0.25</td>\n",
       "    </tr>\n",
       "    <tr>\n",
       "      <th rowspan=\"4\" valign=\"top\">Q</th>\n",
       "      <th>kids</th>\n",
       "      <td>1</td>\n",
       "      <td>4</td>\n",
       "      <td>1</td>\n",
       "      <td>0</td>\n",
       "      <td>1.00</td>\n",
       "      <td>0.00</td>\n",
       "    </tr>\n",
       "    <tr>\n",
       "      <th>young</th>\n",
       "      <td>10</td>\n",
       "      <td>6</td>\n",
       "      <td>6</td>\n",
       "      <td>1</td>\n",
       "      <td>0.60</td>\n",
       "      <td>0.17</td>\n",
       "    </tr>\n",
       "    <tr>\n",
       "      <th>mid</th>\n",
       "      <td>1</td>\n",
       "      <td>3</td>\n",
       "      <td>0</td>\n",
       "      <td>0</td>\n",
       "      <td>0.00</td>\n",
       "      <td>0.00</td>\n",
       "    </tr>\n",
       "    <tr>\n",
       "      <th>old</th>\n",
       "      <td>0</td>\n",
       "      <td>3</td>\n",
       "      <td>0</td>\n",
       "      <td>0</td>\n",
       "      <td>NaN</td>\n",
       "      <td>0.00</td>\n",
       "    </tr>\n",
       "    <tr>\n",
       "      <th rowspan=\"4\" valign=\"top\">S</th>\n",
       "      <th>kids</th>\n",
       "      <td>29</td>\n",
       "      <td>31</td>\n",
       "      <td>16</td>\n",
       "      <td>18</td>\n",
       "      <td>0.55</td>\n",
       "      <td>0.58</td>\n",
       "    </tr>\n",
       "    <tr>\n",
       "      <th>young</th>\n",
       "      <td>108</td>\n",
       "      <td>222</td>\n",
       "      <td>81</td>\n",
       "      <td>31</td>\n",
       "      <td>0.75</td>\n",
       "      <td>0.14</td>\n",
       "    </tr>\n",
       "    <tr>\n",
       "      <th>mid</th>\n",
       "      <td>44</td>\n",
       "      <td>95</td>\n",
       "      <td>32</td>\n",
       "      <td>17</td>\n",
       "      <td>0.73</td>\n",
       "      <td>0.18</td>\n",
       "    </tr>\n",
       "    <tr>\n",
       "      <th>old</th>\n",
       "      <td>5</td>\n",
       "      <td>20</td>\n",
       "      <td>4</td>\n",
       "      <td>2</td>\n",
       "      <td>0.80</td>\n",
       "      <td>0.10</td>\n",
       "    </tr>\n",
       "  </tbody>\n",
       "</table>\n",
       "</div>"
      ],
      "text/plain": [
       "                 f_total_col  m_total_col  f_surv_col  m_surv_col  f_surv_q  \\\n",
       "Embarked age_gr                                                               \n",
       "C        kids             13            5          11           3      0.85   \n",
       "         young            27           41          25          14      0.93   \n",
       "         mid              18           15          16           5      0.89   \n",
       "         old               3            8           3           2      1.00   \n",
       "Q        kids              1            4           1           0      1.00   \n",
       "         young            10            6           6           1      0.60   \n",
       "         mid               1            3           0           0      0.00   \n",
       "         old               0            3           0           0       NaN   \n",
       "S        kids             29           31          16          18      0.55   \n",
       "         young           108          222          81          31      0.75   \n",
       "         mid              44           95          32          17      0.73   \n",
       "         old               5           20           4           2      0.80   \n",
       "\n",
       "                 m_surv_q  \n",
       "Embarked age_gr            \n",
       "C        kids        0.60  \n",
       "         young       0.34  \n",
       "         mid         0.33  \n",
       "         old         0.25  \n",
       "Q        kids        0.00  \n",
       "         young       0.17  \n",
       "         mid         0.00  \n",
       "         old         0.00  \n",
       "S        kids        0.58  \n",
       "         young       0.14  \n",
       "         mid         0.18  \n",
       "         old         0.10  "
      ]
     },
     "execution_count": 231,
     "metadata": {},
     "output_type": "execute_result"
    }
   ],
   "source": [
    "new_df.drop('age_gr', axis=1)"
   ]
  },
  {
   "cell_type": "markdown",
   "id": "3a1c7471",
   "metadata": {},
   "source": [
    "В данной таблице видно, что самый высокий коэффициент выживания, независимо от порта посадки, у детей (за исключением Квинстауна, из 4х мальчиков не выжил ни один). Также из таблицы видно, что у женщин коэффициент выживания в любой возрастной группе выше, чем у мужчин."
   ]
  },
  {
   "cell_type": "code",
   "execution_count": 283,
   "id": "ecf404f9",
   "metadata": {},
   "outputs": [
    {
     "data": {
      "text/html": [
       "<div>\n",
       "<style scoped>\n",
       "    .dataframe tbody tr th:only-of-type {\n",
       "        vertical-align: middle;\n",
       "    }\n",
       "\n",
       "    .dataframe tbody tr th {\n",
       "        vertical-align: top;\n",
       "    }\n",
       "\n",
       "    .dataframe thead th {\n",
       "        text-align: right;\n",
       "    }\n",
       "</style>\n",
       "<table border=\"1\" class=\"dataframe\">\n",
       "  <thead>\n",
       "    <tr style=\"text-align: right;\">\n",
       "      <th></th>\n",
       "      <th>Pclass</th>\n",
       "      <th>Age</th>\n",
       "    </tr>\n",
       "    <tr>\n",
       "      <th>Embarked</th>\n",
       "      <th></th>\n",
       "      <th></th>\n",
       "    </tr>\n",
       "  </thead>\n",
       "  <tbody>\n",
       "    <tr>\n",
       "      <th>C</th>\n",
       "      <td>168</td>\n",
       "      <td>130</td>\n",
       "    </tr>\n",
       "    <tr>\n",
       "      <th>Q</th>\n",
       "      <td>77</td>\n",
       "      <td>28</td>\n",
       "    </tr>\n",
       "    <tr>\n",
       "      <th>S</th>\n",
       "      <td>644</td>\n",
       "      <td>554</td>\n",
       "    </tr>\n",
       "  </tbody>\n",
       "</table>\n",
       "</div>"
      ],
      "text/plain": [
       "          Pclass  Age\n",
       "Embarked             \n",
       "C            168  130\n",
       "Q             77   28\n",
       "S            644  554"
      ]
     },
     "execution_count": 283,
     "metadata": {},
     "output_type": "execute_result"
    }
   ],
   "source": [
    "df.groupby('Embarked').agg({'Pclass':'count', 'Age':'count'})"
   ]
  },
  {
   "cell_type": "markdown",
   "id": "74bcda60",
   "metadata": {},
   "source": [
    "Данные о возрасте большей части пассажиров, севших в **Квинстауне**, отсутствуют, поэтому коэффициент выживаемости в зависимости от возраста по данному порту не точен."
   ]
  },
  {
   "cell_type": "markdown",
   "id": "678bb44f",
   "metadata": {},
   "source": [
    "Рассмотрим коэффициенты выживаемости в зависимости от пола и класса на графиках:"
   ]
  },
  {
   "cell_type": "code",
   "execution_count": 334,
   "id": "94129761",
   "metadata": {},
   "outputs": [
    {
     "name": "stderr",
     "output_type": "stream",
     "text": [
      "C:\\Users\\j10r2\\anaconda3\\lib\\site-packages\\seaborn\\axisgrid.py:670: UserWarning: Using the pointplot function without specifying `order` is likely to produce an incorrect plot.\n",
      "  warnings.warn(warning)\n"
     ]
    },
    {
     "data": {
      "image/png": "[encoded data removed]",
      "text/plain": [
       "<Figure size 848x1200 with 4 Axes>"
      ]
     },
     "metadata": {},
     "output_type": "display_data"
    }
   ],
   "source": [
    "sns.FacetGrid(data=df,row=\"age_gr\",aspect=2.5)\\\n",
    ".map(sns.pointplot,\"Pclass\",\"Survived\",\"Sex\",hue_order=[\"male\",\"female\"],ci=None,palette=\"deep\", \n",
    "     markers=[\"^\", \"o\"], linestyles=[\"-\", \"--\"]).add_legend()\n",
    " \n",
    "plt.show()"
   ]
  },
  {
   "cell_type": "markdown",
   "id": "1676c8b8",
   "metadata": {},
   "source": [
    "## Итоговые выводы:\n",
    "\n",
    "1. Выживаемость пассажиров первого класса выше и доля их среди выживших больше, чем у второго и третьего классов\n",
    "2. По какой-то причине средняя выживаемость пассажиров всех классов, севших в порте Шербур, выше, чем аналогичные показатели у пассажиров из двух других портов.\n",
    "3. Выживаемость у женщин значительно выше, чем у мужчин, исключение составляют только мальчики до 15 лет, у них средний коэффициент выживаемости значительно выше, чем у прочих возрастных групп мужчин, и примерно такой же, как у девочек аналогичного возраста. При этом выживаемость детей для 3 класса ниже, чем для 1 и 2."
   ]
  }
 ],
 "metadata": {
  "kernelspec": {
   "display_name": "Python 3 (ipykernel)",
   "language": "python",
   "name": "python3"
  },
  "language_info": {
   "codemirror_mode": {
    "name": "ipython",
    "version": 3
   },
   "file_extension": ".py",
   "mimetype": "text/x-python",
   "name": "python",
   "nbconvert_exporter": "python",
   "pygments_lexer": "ipython3",
   "version": "3.9.13"
  }
 },
 "nbformat": 4,
 "nbformat_minor": 5
}
